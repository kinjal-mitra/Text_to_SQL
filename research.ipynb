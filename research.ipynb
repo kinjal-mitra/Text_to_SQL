{
 "cells": [
  {
   "cell_type": "markdown",
   "id": "44be4092",
   "metadata": {},
   "source": [
    "# Initial Workflow"
   ]
  },
  {
   "cell_type": "code",
   "execution_count": 4,
   "id": "9fa0aca8",
   "metadata": {},
   "outputs": [
    {
     "data": {
      "text/plain": [
       "True"
      ]
     },
     "execution_count": 4,
     "metadata": {},
     "output_type": "execute_result"
    }
   ],
   "source": [
    "# Importing Libraries\n",
    "import os\n",
    "import re\n",
    "from dotenv import load_dotenv\n",
    "\n",
    "# LangChain Core\n",
    "from langchain_community.utilities import SQLDatabase\n",
    "from langchain_core.prompts import ChatPromptTemplate\n",
    "from langchain_core.runnables import RunnablePassthrough\n",
    "from langchain_core.output_parsers import StrOutputParser\n",
    "\n",
    "# LLM Models\n",
    "from langchain_google_genai import ChatGoogleGenerativeAI\n",
    "from langchain_anthropic import ChatAnthropic\n",
    "\n",
    "# Embeddings\n",
    "from langchain_community.embeddings import HuggingFaceEmbeddings\n",
    "\n",
    "# RAGAS Evaluation Framework\n",
    "from ragas.llms import LangchainLLMWrapper\n",
    "from ragas.embeddings import LangchainEmbeddingsWrapper\n",
    "from ragas.metrics import (\n",
    "    AspectCritic,\n",
    "    RubricsScore,\n",
    "    ContextPrecision,\n",
    "    Faithfulness\n",
    ")\n",
    "from ragas.dataset_schema import SingleTurnSample, EvaluationDataset\n",
    "\n",
    "\n",
    "# Load environment variables from .env file\n",
    "load_dotenv()\n"
   ]
  },
  {
   "cell_type": "code",
   "execution_count": 5,
   "id": "c5823d5b",
   "metadata": {},
   "outputs": [],
   "source": [
    "# Important: Please set your own password and database schema name from .env file\n",
    "db_user = os.environ.get(\"DB_USERNAME\") # It is usually 'root' for local MySQL installations\n",
    "db_password = os.environ.get(\"DB_PASSWORD\") # Set during MySQL installation\n",
    "\n",
    "\n",
    "# Connect MySQL database\n",
    "host = 'localhost'\n",
    "port = '3306'\n",
    "username = 'root'\n",
    "password = db_password\n",
    "database_schema = 'text_to_sql'\n",
    "#mysql_uri = f\"mysql+pymysql://{username}:{password}@{host}:{port}/{database_schema}\"\n",
    "mysql_uri = f\"mysql+mysqlconnector://{username}:{password}@{host}:{port}/{database_schema}\"\n",
    "\n",
    "db = SQLDatabase.from_uri(mysql_uri,sample_rows_in_table_info=2)"
   ]
  },
  {
   "cell_type": "code",
   "execution_count": 6,
   "id": "f5859c0e",
   "metadata": {},
   "outputs": [],
   "source": [
    "# Create the LLM Prompt Template\n",
    "\n",
    "template = \"\"\"Based on the table schema below, write a SQL query that would answer the user's question:\n",
    "Remember : Only provide me the sql query do not include anything else. Provide me sql query in a single line do not add line breaks.\n",
    "Table Schema: {schema}\n",
    "Question: {question}\n",
    "SQL Query:\n",
    "\"\"\"\n",
    "\n",
    "prompt = ChatPromptTemplate.from_template(template)"
   ]
  },
  {
   "cell_type": "code",
   "execution_count": 7,
   "id": "d9c1fe5e",
   "metadata": {},
   "outputs": [],
   "source": [
    "# get the schema of the database\n",
    "def get_schema(db):\n",
    "    schema = db.get_table_info()\n",
    "    return schema"
   ]
  },
  {
   "cell_type": "code",
   "execution_count": 8,
   "id": "f8a7e32e",
   "metadata": {},
   "outputs": [],
   "source": [
    "# LLM Initialization\n",
    "llm = ChatGoogleGenerativeAI(\n",
    "    model = 'gemini-2.0-flash',\n",
    "    api_key = os.environ.get(\"GOOGLE_API_KEY\"))"
   ]
  },
  {
   "cell_type": "code",
   "execution_count": 9,
   "id": "d775b082",
   "metadata": {},
   "outputs": [],
   "source": [
    "# Create the SQL query chain using the LLM and the prompt template\n",
    "\n",
    "sql_chain = (\n",
    "    RunnablePassthrough.assign(schema=lambda _:get_schema(db)) \n",
    "    | prompt\n",
    "    | llm.bind(stop=[\"\\nSQLResult:\"])\n",
    "    | StrOutputParser()\n",
    ")\n",
    "\n"
   ]
  },
  {
   "cell_type": "code",
   "execution_count": 10,
   "id": "eaafe971",
   "metadata": {},
   "outputs": [
    {
     "name": "stdout",
     "output_type": "stream",
     "text": [
      "```sql\n",
      "SELECT sum(T1.`Line Total`) FROM sales_order AS T1 INNER JOIN customers AS T2 ON T1.`Customer Name Index` = T2.`Customer Index` WHERE T2.`Customer Names` = \"Geiss Company\"\n",
      "```\n"
     ]
    }
   ],
   "source": [
    "# test the SQL query chain with a sample question\n",
    "\n",
    "resp = sql_chain.invoke({\"question\": \"What is the total 'Line Total' for Geiss Company\"})\n",
    "print(resp)"
   ]
  },
  {
   "cell_type": "code",
   "execution_count": 11,
   "id": "5ffd3835",
   "metadata": {},
   "outputs": [
    {
     "data": {
      "text/plain": [
       "'SELECT sum(T1.`Line Total`) FROM sales_order AS T1 INNER JOIN customers AS T2 ON T1.`Customer Name Index` = T2.`Customer Index` WHERE T2.`Customer Names` = \"Geiss Company\"'"
      ]
     },
     "execution_count": 11,
     "metadata": {},
     "output_type": "execute_result"
    }
   ],
   "source": [
    "query = re.search(r\"```sql\\s*(.*?)\\s*```\", resp, re.DOTALL | re.IGNORECASE) # For removing ```sql ``` from the response\n",
    "\n",
    "if query:\n",
    "    query=query.group(1).strip()\n",
    "\n",
    "query"
   ]
  },
  {
   "cell_type": "code",
   "execution_count": 12,
   "id": "f191a9bc",
   "metadata": {},
   "outputs": [
    {
     "name": "stdout",
     "output_type": "stream",
     "text": [
      "[(5516846.999999994,)]\n"
     ]
    }
   ],
   "source": [
    "# Execute the generated SQL query on the database\n",
    "print(db.run(query))"
   ]
  },
  {
   "cell_type": "markdown",
   "id": "757a70a3",
   "metadata": {},
   "source": [
    "The generated answer matches our result when the same SQL query is run on MySQL Workbench"
   ]
  },
  {
   "cell_type": "code",
   "execution_count": null,
   "id": "736a949d",
   "metadata": {},
   "outputs": [],
   "source": []
  }
 ],
 "metadata": {
  "kernelspec": {
   "display_name": "venv",
   "language": "python",
   "name": "python3"
  },
  "language_info": {
   "codemirror_mode": {
    "name": "ipython",
    "version": 3
   },
   "file_extension": ".py",
   "mimetype": "text/x-python",
   "name": "python",
   "nbconvert_exporter": "python",
   "pygments_lexer": "ipython3",
   "version": "3.11.2"
  }
 },
 "nbformat": 4,
 "nbformat_minor": 5
}
