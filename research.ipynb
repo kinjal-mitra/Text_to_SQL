{
 "cells": [
  {
   "cell_type": "markdown",
   "id": "44be4092",
   "metadata": {},
   "source": [
    "# Initial Workflow"
   ]
  },
  {
   "cell_type": "code",
   "execution_count": 88,
   "id": "9fa0aca8",
   "metadata": {},
   "outputs": [
    {
     "data": {
      "text/plain": [
       "True"
      ]
     },
     "execution_count": 88,
     "metadata": {},
     "output_type": "execute_result"
    }
   ],
   "source": [
    "# Importing Libraries\n",
    "import os\n",
    "import re\n",
    "from dotenv import load_dotenv\n",
    "\n",
    "# LangChain Core\n",
    "from langchain_community.utilities import SQLDatabase\n",
    "from langchain_core.prompts import ChatPromptTemplate\n",
    "from langchain_core.runnables import RunnablePassthrough\n",
    "from langchain_core.output_parsers import StrOutputParser\n",
    "\n",
    "# LLM Models\n",
    "from langchain_google_genai import ChatGoogleGenerativeAI\n",
    "from langchain_anthropic import ChatAnthropic\n",
    "\n",
    "# Embeddings\n",
    "from langchain_community.embeddings import HuggingFaceEmbeddings\n",
    "\n",
    "# RAGAS Evaluation Framework\n",
    "from ragas.llms import LangchainLLMWrapper\n",
    "from ragas.embeddings import LangchainEmbeddingsWrapper\n",
    "from ragas.metrics import (\n",
    "    AspectCritic,\n",
    "    RubricsScore,\n",
    "    ContextPrecision,\n",
    "    Faithfulness\n",
    ")\n",
    "from ragas.dataset_schema import SingleTurnSample, EvaluationDataset\n",
    "\n",
    "\n",
    "# Load environment variables from .env file\n",
    "load_dotenv()\n"
   ]
  },
  {
   "cell_type": "code",
   "execution_count": 89,
   "id": "c5823d5b",
   "metadata": {},
   "outputs": [],
   "source": [
    "# Important: Please set your own password and database schema name from .env file\n",
    "db_user = os.environ.get(\"DB_USERNAME\") # It is usually 'root' for local MySQL installations\n",
    "db_password = os.environ.get(\"DB_PASSWORD\") # Set during MySQL installation\n",
    "\n",
    "\n",
    "# Connect MySQL database\n",
    "host = 'localhost'\n",
    "port = '3306'\n",
    "username = 'root'\n",
    "password = db_password\n",
    "database_schema = 'text_to_sql'\n",
    "#mysql_uri = f\"mysql+pymysql://{username}:{password}@{host}:{port}/{database_schema}\"\n",
    "mysql_uri = f\"mysql+mysqlconnector://{username}:{password}@{host}:{port}/{database_schema}\"\n",
    "\n",
    "db = SQLDatabase.from_uri(mysql_uri,sample_rows_in_table_info=2)"
   ]
  },
  {
   "cell_type": "code",
   "execution_count": 90,
   "id": "f5859c0e",
   "metadata": {},
   "outputs": [],
   "source": [
    "# Create the LLM Prompt Template\n",
    "\n",
    "template = \"\"\"Based on the table schema below, write a SQL query that would answer the user's question:\n",
    "Remember : Only provide me the sql query do not include anything else. Provide me sql query in a single line do not add line breaks.\n",
    "Table Schema: {schema}\n",
    "Question: {question}\n",
    "SQL Query:\n",
    "\"\"\"\n",
    "\n",
    "prompt = ChatPromptTemplate.from_template(template)"
   ]
  },
  {
   "cell_type": "code",
   "execution_count": 91,
   "id": "d9c1fe5e",
   "metadata": {},
   "outputs": [],
   "source": [
    "# get the schema of the database\n",
    "def get_schema(db):\n",
    "    schema = db.get_table_info()\n",
    "    return schema"
   ]
  },
  {
   "cell_type": "code",
   "execution_count": 92,
   "id": "f8a7e32e",
   "metadata": {},
   "outputs": [],
   "source": [
    "# LLM Initialization\n",
    "llm = ChatGoogleGenerativeAI(\n",
    "    model = 'gemini-2.0-flash',\n",
    "    api_key = os.environ.get(\"GOOGLE_API_KEY\"))"
   ]
  },
  {
   "cell_type": "code",
   "execution_count": 93,
   "id": "d775b082",
   "metadata": {},
   "outputs": [],
   "source": [
    "# Create the SQL query chain using the LLM and the prompt template\n",
    "\n",
    "sql_chain = (\n",
    "    RunnablePassthrough.assign(schema=lambda _:get_schema(db)) \n",
    "    | prompt\n",
    "    | llm.bind(stop=[\"\\nSQLResult:\"])\n",
    "    | StrOutputParser()\n",
    ")\n",
    "\n"
   ]
  },
  {
   "cell_type": "code",
   "execution_count": 94,
   "id": "eaafe971",
   "metadata": {},
   "outputs": [
    {
     "name": "stdout",
     "output_type": "stream",
     "text": [
      "```sql\n",
      "SELECT sum(T1.`Line Total`) FROM sales_order AS T1 INNER JOIN customers AS T2 ON T1.`Customer Name Index` = T2.`Customer Index` WHERE T2.`Customer Names` = 'Geiss Company'\n",
      "```\n"
     ]
    }
   ],
   "source": [
    "# test the SQL query chain with a sample question\n",
    "\n",
    "resp = sql_chain.invoke({\"question\": \"What is the total 'Line Total' for Geiss Company\"})\n",
    "print(resp)"
   ]
  },
  {
   "cell_type": "code",
   "execution_count": 95,
   "id": "5ffd3835",
   "metadata": {},
   "outputs": [
    {
     "data": {
      "text/plain": [
       "\"SELECT sum(T1.`Line Total`) FROM sales_order AS T1 INNER JOIN customers AS T2 ON T1.`Customer Name Index` = T2.`Customer Index` WHERE T2.`Customer Names` = 'Geiss Company'\""
      ]
     },
     "execution_count": 95,
     "metadata": {},
     "output_type": "execute_result"
    }
   ],
   "source": [
    "query = re.search(r\"```sql\\s*(.*?)\\s*```\", resp, re.DOTALL | re.IGNORECASE) # For removing ```sql ``` from the response\n",
    "\n",
    "if query:\n",
    "    query=query.group(1).strip()\n",
    "\n",
    "query"
   ]
  },
  {
   "cell_type": "code",
   "execution_count": 96,
   "id": "f191a9bc",
   "metadata": {},
   "outputs": [
    {
     "name": "stdout",
     "output_type": "stream",
     "text": [
      "[(5516846.999999994,)]\n"
     ]
    }
   ],
   "source": [
    "# Execute the generated SQL query on the database\n",
    "print(db.run(query))"
   ]
  },
  {
   "cell_type": "markdown",
   "id": "757a70a3",
   "metadata": {},
   "source": [
    "The generated answer matches our result when the same SQL query is run on MySQL Workbench"
   ]
  },
  {
   "cell_type": "markdown",
   "id": "a1e47b45",
   "metadata": {},
   "source": [
    "# RAGAs(Retrieval-Augmented Generation Assessment) Implementation "
   ]
  },
  {
   "cell_type": "code",
   "execution_count": 97,
   "id": "d2895da0",
   "metadata": {},
   "outputs": [],
   "source": [
    "llm = ChatAnthropic(\n",
    "    model=\"claude-3-opus-20240229\",  # or \"claude-3-sonnet-20240229\", \"claude-3-haiku-20240307\"\n",
    "    anthropic_api_key=os.environ.get(\"ANTHROPIC_API_KEY\")\n",
    ")"
   ]
  },
  {
   "cell_type": "code",
   "execution_count": 98,
   "id": "7e2883ee",
   "metadata": {},
   "outputs": [],
   "source": [
    "embeddings = HuggingFaceEmbeddings(model_name=\"sentence-transformers/all-MiniLM-L6-v2\")"
   ]
  },
  {
   "cell_type": "code",
   "execution_count": 99,
   "id": "df93b12a",
   "metadata": {},
   "outputs": [
    {
     "name": "stderr",
     "output_type": "stream",
     "text": [
      "C:\\temp\\ipykernel_29964\\108186089.py:1: DeprecationWarning: LangchainLLMWrapper is deprecated and will be removed in a future version. Use the modern LLM providers instead: from ragas.llms.base import llm_factory; llm = llm_factory('gpt-4o-mini') or from ragas.llms.base import instructor_llm_factory; llm = instructor_llm_factory('openai', client=openai_client)\n",
      "  evaluator_llm = LangchainLLMWrapper(llm)\n",
      "C:\\temp\\ipykernel_29964\\108186089.py:2: DeprecationWarning: LangchainEmbeddingsWrapper is deprecated and will be removed in a future version. Use the modern embedding providers instead: embedding_factory('openai', model='text-embedding-3-small', client=openai_client) or from ragas.embeddings import OpenAIEmbeddings, GoogleEmbeddings, HuggingFaceEmbeddings\n",
      "  evaluator_embeddings = LangchainEmbeddingsWrapper(embeddings)\n"
     ]
    }
   ],
   "source": [
    "evaluator_llm = LangchainLLMWrapper(llm)\n",
    "evaluator_embeddings = LangchainEmbeddingsWrapper(embeddings)"
   ]
  },
  {
   "cell_type": "code",
   "execution_count": 100,
   "id": "dacfae13",
   "metadata": {},
   "outputs": [],
   "source": [
    "maliciousness_definition = (\n",
    "    \"Is the response intended to harm, deceive, or exploit users?\"\n",
    ")\n",
    "\n",
    "aspect_critic = AspectCritic(\n",
    "    name=\"maliciousness\",\n",
    "    definition=maliciousness_definition,\n",
    "    llm=evaluator_llm,\n",
    ")\n",
    "\n",
    "# adapeted google's helpfulness_prompt_template\n",
    "helpfulness_rubrics = {\n",
    "    \"score1_description\": \"Response is useless/irrelevant, contains inaccurate/deceptive/misleading information, and/or contains harmful/offensive content. The user would feel not at all satisfied with the content in the response.\",\n",
    "    \"score2_description\": \"Response is minimally relevant to the instruction and may provide some vaguely useful information, but it lacks clarity and detail. It might contain minor inaccuracies. The user would feel only slightly satisfied with the content in the response.\",\n",
    "    \"score3_description\": \"Response is relevant to the instruction and provides some useful content, but could be more relevant, well-defined, comprehensive, and/or detailed. The user would feel somewhat satisfied with the content in the response.\",\n",
    "    \"score4_description\": \"Response is very relevant to the instruction, providing clearly defined information that addresses the instruction's core needs.  It may include additional insights that go slightly beyond the immediate instruction.  The user would feel quite satisfied with the content in the response.\",\n",
    "    \"score5_description\": \"Response is useful and very comprehensive with well-defined key details to address the needs in the instruction and usually beyond what explicitly asked. The user would feel very satisfied with the content in the response.\",\n",
    "}\n",
    "\n",
    "rubrics_score = RubricsScore(name=\"helpfulness\", rubrics=helpfulness_rubrics, llm=evaluator_llm)"
   ]
  },
  {
   "cell_type": "code",
   "execution_count": 101,
   "id": "7652d148",
   "metadata": {},
   "outputs": [],
   "source": [
    "context_precision = ContextPrecision(llm=evaluator_llm)\n",
    "faithfulness = Faithfulness(llm=evaluator_llm)"
   ]
  },
  {
   "cell_type": "code",
   "execution_count": 102,
   "id": "ab254694",
   "metadata": {},
   "outputs": [],
   "source": [
    "user_inputs = [\n",
    "    \"What was the budget of Product 12\",\n",
    "    \"What are the names of all products in the products table?\",\n",
    "    \"List all customer names from the customers table.\",\n",
    "    \"Find the name and state of all regions in the regions table.\",\n",
    "    \"What is the name of the customer with Customer Index = 1\"\n",
    "]\n",
    "\n",
    "responses = []\n",
    "retrieved_contexts = []\n",
    "\n",
    "for question in user_inputs:\n",
    "    resp = sql_chain.invoke({\"question\": question})\n",
    "    \n",
    "\n",
    "    match = re.search(r\"```sql\\s*(.*?)\\s*```\", resp, re.DOTALL | re.IGNORECASE)\n",
    "    if match:\n",
    "        query = match.group(1).strip()\n",
    "        responses.append(query)\n",
    "        retrieved_contexts.append(query)"
   ]
  },
  {
   "cell_type": "code",
   "execution_count": 103,
   "id": "967f50e1",
   "metadata": {},
   "outputs": [
    {
     "data": {
      "text/plain": [
       "[\"SELECT `2017 Budgets` FROM `2017_budgets` WHERE `Product Name` = 'Product 12'\",\n",
       " 'SELECT `Product Name` FROM products',\n",
       " 'SELECT `Customer Names` FROM customers',\n",
       " 'SELECT name, state FROM regions',\n",
       " 'SELECT `Customer Names` FROM Customers WHERE `Customer Index` = 1']"
      ]
     },
     "execution_count": 103,
     "metadata": {},
     "output_type": "execute_result"
    }
   ],
   "source": [
    "responses"
   ]
  },
  {
   "cell_type": "code",
   "execution_count": 104,
   "id": "9d43e356",
   "metadata": {},
   "outputs": [],
   "source": [
    "references=[\n",
    "\"SELECT `2017 Budgets` FROM `2017_budgets` WHERE `Product Name` = 'Product 12';\",\n",
    "\"SELECT `Product Name`ROM products;\",\n",
    "\"SELECT `Customer Names`FROM customers;\",\n",
    "\"SELECT name, state FROM regions;\",\n",
    "\"SELECT `Customer Names` FROM customers WHERE `Customer Index` = 1;\"\n",
    "]"
   ]
  },
  {
   "cell_type": "code",
   "execution_count": null,
   "id": "b1330d5e",
   "metadata": {},
   "outputs": [],
   "source": [
    "samples = []\n",
    "for i in range(len(user_inputs)):\n",
    "\n",
    "    sample = SingleTurnSample(\n",
    "        user_input=user_inputs[i],\n",
    "        retrieved_contexts=list(retrieved_contexts),\n",
    "        response=responses[i],\n",
    "        reference=references[i],\n",
    "    )\n",
    "    samples.append(sample)"
   ]
  },
  {
   "cell_type": "code",
   "execution_count": 107,
   "id": "65c373d3",
   "metadata": {},
   "outputs": [
    {
     "data": {
      "text/plain": [
       "[SingleTurnSample(user_input='What was the budget of Product 12', retrieved_contexts=[\"SELECT `2017 Budgets` FROM `2017_budgets` WHERE `Product Name` = 'Product 12'\", 'SELECT `Product Name` FROM products', 'SELECT `Customer Names` FROM customers', 'SELECT name, state FROM regions', 'SELECT `Customer Names` FROM Customers WHERE `Customer Index` = 1'], reference_contexts=None, retrieved_context_ids=None, reference_context_ids=None, response=\"SELECT `2017 Budgets` FROM `2017_budgets` WHERE `Product Name` = 'Product 12'\", multi_responses=None, reference=\"SELECT `2017 Budgets` FROM `2017_budgets` WHERE `Product Name` = 'Product 12';\", rubrics=None),\n",
       " SingleTurnSample(user_input='What are the names of all products in the products table?', retrieved_contexts=[\"SELECT `2017 Budgets` FROM `2017_budgets` WHERE `Product Name` = 'Product 12'\", 'SELECT `Product Name` FROM products', 'SELECT `Customer Names` FROM customers', 'SELECT name, state FROM regions', 'SELECT `Customer Names` FROM Customers WHERE `Customer Index` = 1'], reference_contexts=None, retrieved_context_ids=None, reference_context_ids=None, response='SELECT `Product Name` FROM products', multi_responses=None, reference='SELECT `Product Name`ROM products;', rubrics=None),\n",
       " SingleTurnSample(user_input='List all customer names from the customers table.', retrieved_contexts=[\"SELECT `2017 Budgets` FROM `2017_budgets` WHERE `Product Name` = 'Product 12'\", 'SELECT `Product Name` FROM products', 'SELECT `Customer Names` FROM customers', 'SELECT name, state FROM regions', 'SELECT `Customer Names` FROM Customers WHERE `Customer Index` = 1'], reference_contexts=None, retrieved_context_ids=None, reference_context_ids=None, response='SELECT `Customer Names` FROM customers', multi_responses=None, reference='SELECT `Customer Names`FROM customers;', rubrics=None),\n",
       " SingleTurnSample(user_input='Find the name and state of all regions in the regions table.', retrieved_contexts=[\"SELECT `2017 Budgets` FROM `2017_budgets` WHERE `Product Name` = 'Product 12'\", 'SELECT `Product Name` FROM products', 'SELECT `Customer Names` FROM customers', 'SELECT name, state FROM regions', 'SELECT `Customer Names` FROM Customers WHERE `Customer Index` = 1'], reference_contexts=None, retrieved_context_ids=None, reference_context_ids=None, response='SELECT name, state FROM regions', multi_responses=None, reference='SELECT name, state FROM regions;', rubrics=None),\n",
       " SingleTurnSample(user_input='What is the name of the customer with Customer Index = 1', retrieved_contexts=[\"SELECT `2017 Budgets` FROM `2017_budgets` WHERE `Product Name` = 'Product 12'\", 'SELECT `Product Name` FROM products', 'SELECT `Customer Names` FROM customers', 'SELECT name, state FROM regions', 'SELECT `Customer Names` FROM Customers WHERE `Customer Index` = 1'], reference_contexts=None, retrieved_context_ids=None, reference_context_ids=None, response='SELECT `Customer Names` FROM Customers WHERE `Customer Index` = 1', multi_responses=None, reference='SELECT `Customer Names` FROM customers WHERE `Customer Index` = 1;', rubrics=None)]"
      ]
     },
     "execution_count": 107,
     "metadata": {},
     "output_type": "execute_result"
    }
   ],
   "source": [
    "samples"
   ]
  },
  {
   "cell_type": "code",
   "execution_count": 108,
   "id": "35c45f57",
   "metadata": {},
   "outputs": [
    {
     "data": {
      "text/html": [
       "<div>\n",
       "<style scoped>\n",
       "    .dataframe tbody tr th:only-of-type {\n",
       "        vertical-align: middle;\n",
       "    }\n",
       "\n",
       "    .dataframe tbody tr th {\n",
       "        vertical-align: top;\n",
       "    }\n",
       "\n",
       "    .dataframe thead th {\n",
       "        text-align: right;\n",
       "    }\n",
       "</style>\n",
       "<table border=\"1\" class=\"dataframe\">\n",
       "  <thead>\n",
       "    <tr style=\"text-align: right;\">\n",
       "      <th></th>\n",
       "      <th>user_input</th>\n",
       "      <th>retrieved_contexts</th>\n",
       "      <th>response</th>\n",
       "      <th>reference</th>\n",
       "    </tr>\n",
       "  </thead>\n",
       "  <tbody>\n",
       "    <tr>\n",
       "      <th>0</th>\n",
       "      <td>What was the budget of Product 12</td>\n",
       "      <td>[SELECT `2017 Budgets` FROM `2017_budgets` WHE...</td>\n",
       "      <td>SELECT `2017 Budgets` FROM `2017_budgets` WHER...</td>\n",
       "      <td>SELECT `2017 Budgets` FROM `2017_budgets` WHER...</td>\n",
       "    </tr>\n",
       "    <tr>\n",
       "      <th>1</th>\n",
       "      <td>What are the names of all products in the prod...</td>\n",
       "      <td>[SELECT `2017 Budgets` FROM `2017_budgets` WHE...</td>\n",
       "      <td>SELECT `Product Name` FROM products</td>\n",
       "      <td>SELECT `Product Name`ROM products;</td>\n",
       "    </tr>\n",
       "    <tr>\n",
       "      <th>2</th>\n",
       "      <td>List all customer names from the customers table.</td>\n",
       "      <td>[SELECT `2017 Budgets` FROM `2017_budgets` WHE...</td>\n",
       "      <td>SELECT `Customer Names` FROM customers</td>\n",
       "      <td>SELECT `Customer Names`FROM customers;</td>\n",
       "    </tr>\n",
       "    <tr>\n",
       "      <th>3</th>\n",
       "      <td>Find the name and state of all regions in the ...</td>\n",
       "      <td>[SELECT `2017 Budgets` FROM `2017_budgets` WHE...</td>\n",
       "      <td>SELECT name, state FROM regions</td>\n",
       "      <td>SELECT name, state FROM regions;</td>\n",
       "    </tr>\n",
       "    <tr>\n",
       "      <th>4</th>\n",
       "      <td>What is the name of the customer with Customer...</td>\n",
       "      <td>[SELECT `2017 Budgets` FROM `2017_budgets` WHE...</td>\n",
       "      <td>SELECT `Customer Names` FROM Customers WHERE `...</td>\n",
       "      <td>SELECT `Customer Names` FROM customers WHERE `...</td>\n",
       "    </tr>\n",
       "  </tbody>\n",
       "</table>\n",
       "</div>"
      ],
      "text/plain": [
       "                                          user_input  \\\n",
       "0                  What was the budget of Product 12   \n",
       "1  What are the names of all products in the prod...   \n",
       "2  List all customer names from the customers table.   \n",
       "3  Find the name and state of all regions in the ...   \n",
       "4  What is the name of the customer with Customer...   \n",
       "\n",
       "                                  retrieved_contexts  \\\n",
       "0  [SELECT `2017 Budgets` FROM `2017_budgets` WHE...   \n",
       "1  [SELECT `2017 Budgets` FROM `2017_budgets` WHE...   \n",
       "2  [SELECT `2017 Budgets` FROM `2017_budgets` WHE...   \n",
       "3  [SELECT `2017 Budgets` FROM `2017_budgets` WHE...   \n",
       "4  [SELECT `2017 Budgets` FROM `2017_budgets` WHE...   \n",
       "\n",
       "                                            response  \\\n",
       "0  SELECT `2017 Budgets` FROM `2017_budgets` WHER...   \n",
       "1                SELECT `Product Name` FROM products   \n",
       "2             SELECT `Customer Names` FROM customers   \n",
       "3                    SELECT name, state FROM regions   \n",
       "4  SELECT `Customer Names` FROM Customers WHERE `...   \n",
       "\n",
       "                                           reference  \n",
       "0  SELECT `2017 Budgets` FROM `2017_budgets` WHER...  \n",
       "1                 SELECT `Product Name`ROM products;  \n",
       "2             SELECT `Customer Names`FROM customers;  \n",
       "3                   SELECT name, state FROM regions;  \n",
       "4  SELECT `Customer Names` FROM customers WHERE `...  "
      ]
     },
     "execution_count": 108,
     "metadata": {},
     "output_type": "execute_result"
    }
   ],
   "source": [
    "ragas_eval_dataset = EvaluationDataset(samples=samples)\n",
    "ragas_eval_dataset.to_pandas()"
   ]
  },
  {
   "cell_type": "code",
   "execution_count": 109,
   "id": "d9e0d7a9",
   "metadata": {},
   "outputs": [
    {
     "name": "stderr",
     "output_type": "stream",
     "text": [
      "Evaluating:  50%|█████     | 5/10 [02:42<04:12, 50.46s/it]Exception raised in Job[8]: TimeoutError()\n",
      "Exception raised in Job[6]: TimeoutError()\n",
      "Exception raised in Job[2]: TimeoutError()\n",
      "Exception raised in Job[7]: TimeoutError()\n",
      "Exception raised in Job[4]: TimeoutError()\n",
      "Evaluating: 100%|██████████| 10/10 [03:00<00:00, 18.00s/it]\n"
     ]
    },
    {
     "data": {
      "text/plain": [
       "{'context_precision': 1.0000, 'helpfulness': 4.5000}"
      ]
     },
     "execution_count": 109,
     "metadata": {},
     "output_type": "execute_result"
    }
   ],
   "source": [
    "from ragas import evaluate\n",
    "\n",
    "ragas_metrics = [ context_precision, rubrics_score]\n",
    "\n",
    "result = evaluate(\n",
    "    metrics=ragas_metrics,\n",
    "    dataset=ragas_eval_dataset\n",
    ")\n",
    "result"
   ]
  }
 ],
 "metadata": {
  "kernelspec": {
   "display_name": "venv",
   "language": "python",
   "name": "python3"
  },
  "language_info": {
   "codemirror_mode": {
    "name": "ipython",
    "version": 3
   },
   "file_extension": ".py",
   "mimetype": "text/x-python",
   "name": "python",
   "nbconvert_exporter": "python",
   "pygments_lexer": "ipython3",
   "version": "3.11.2"
  }
 },
 "nbformat": 4,
 "nbformat_minor": 5
}
